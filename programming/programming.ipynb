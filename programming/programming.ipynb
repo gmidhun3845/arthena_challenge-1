{
 "cells": [
  {
   "cell_type": "code",
   "execution_count": 1,
   "metadata": {},
   "outputs": [],
   "source": [
    "import os\n",
    "import numpy as np"
   ]
  },
  {
   "cell_type": "code",
   "execution_count": 2,
   "metadata": {},
   "outputs": [],
   "source": [
    "# convert the simple html to dict/json format\n",
    "def convert_to_json(text,index):\n",
    "    state = 0\n",
    "    key = \"\"\n",
    "    key2 = \"\"\n",
    "    data_json = {}\n",
    "    subresult = \"\"\n",
    "    old = index\n",
    "    while index<len(text):\n",
    "        l = text[index]\n",
    "        index+=1\n",
    "        if state==0:\n",
    "            if l=='<':\n",
    "                state=1\n",
    "        elif state==1:\n",
    "            if l==\"/\":\n",
    "                s = \"\"\n",
    "                if not bool(data_json):\n",
    "                    for i in range(old,index-2):\n",
    "                        s+=text[i]\n",
    "                    return s.strip(),index-2\n",
    "                return data_json,index-2\n",
    "            elif l=='>':\n",
    "                subresult,index=convert_to_json(text,index)\n",
    "                state=2\n",
    "            else:\n",
    "                key+=l\n",
    "        elif state==2:\n",
    "            if l=='<':\n",
    "                state=3\n",
    "        else:\n",
    "            if l=='>':\n",
    "                if key in data_json:\n",
    "                    c = 1\n",
    "                    while key+\"_\"+str(c)  in data_json:\n",
    "                        c+=1\n",
    "                    key = key+\"_\"+str(c)\n",
    "                data_json[key] = subresult\n",
    "                key = \"\"\n",
    "                key2= \"\"\n",
    "                subresult = \"\"\n",
    "                state = 0\n",
    "            else:\n",
    "                key2+=l\n",
    "    return data_json,index"
   ]
  },
  {
   "cell_type": "code",
   "execution_count": 3,
   "metadata": {},
   "outputs": [],
   "source": [
    "def extractInfo(f):\n",
    "    text = open(f).read()\n",
    "    data_json,_ = convert_to_json(np.array(list(text.strip())),0)\n",
    "    return data_json"
   ]
  },
  {
   "cell_type": "code",
   "execution_count": 4,
   "metadata": {},
   "outputs": [],
   "source": [
    "# Data for Task1\n",
    "path = \"lot-parser/data/2015-03-18/\"\n",
    "filepaths = []\n",
    "for paths,folders,files in os.walk(path):\n",
    "    if len(files)>0:\n",
    "        for file in files:\n",
    "            if file.endswith('.html'):\n",
    "                filepaths.append(paths+'/'+file)"
   ]
  },
  {
   "cell_type": "code",
   "execution_count": 5,
   "metadata": {},
   "outputs": [],
   "source": [
    "# artist names\n",
    "def script1(filepaths):\n",
    "    result = []\n",
    "    for file in filepaths:\n",
    "        data = extractInfo(file)\n",
    "        result.append(data['html']['body']['h2'])\n",
    "    return result"
   ]
  },
  {
   "cell_type": "code",
   "execution_count": 6,
   "metadata": {},
   "outputs": [
    {
     "data": {
      "text/plain": [
       "['Rembrandt Harmensz. van Rijn',\n",
       " 'Joan Miró',\n",
       " 'Marc Chagall',\n",
       " 'Louis Marcoussis (1883-1941)',\n",
       " 'Pablo Picasso']"
      ]
     },
     "execution_count": 6,
     "metadata": {},
     "output_type": "execute_result"
    }
   ],
   "source": [
    "script1(filepaths)"
   ]
  },
  {
   "cell_type": "code",
   "execution_count": 7,
   "metadata": {},
   "outputs": [],
   "source": [
    "def prepData(file,artist_index,artist_count,result):\n",
    "    data = extractInfo(file)['html']\n",
    "    temp = {}\n",
    "    temp['artist'] = data['body']['h2']\n",
    "    temp['works'] = []\n",
    "    index = artist_count\n",
    "    if temp['artist'] not in artist_index:\n",
    "        result.append(temp)\n",
    "        artist_index[temp['artist']] = artist_count\n",
    "        artist_count+=1\n",
    "    else:\n",
    "        index = artist_index[temp['artist']]\n",
    "    return artist_index,artist_count,index,data"
   ]
  },
  {
   "cell_type": "code",
   "execution_count": 8,
   "metadata": {},
   "outputs": [],
   "source": [
    "# artist names\n",
    "def script2(filepaths):\n",
    "    result = []\n",
    "    artist_index = {}\n",
    "    artist_count = 0\n",
    "    for file in filepaths:\n",
    "        artist_index,artist_count,index,data = prepData(file,artist_index,artist_count,result)\n",
    "        result[index]['works'].append(data['title'])\n",
    "    return result"
   ]
  },
  {
   "cell_type": "code",
   "execution_count": 9,
   "metadata": {},
   "outputs": [
    {
     "data": {
      "text/plain": [
       "[{'artist': 'Rembrandt Harmensz. van Rijn',\n",
       "  'works': ['Rembrandt Harmensz. van Rijn: Christ at Emmaus: The smaller Plate']},\n",
       " {'artist': 'Joan Miró',\n",
       "  'works': ['Joan Miró: Femme et Chien devant la Lune']},\n",
       " {'artist': 'Marc Chagall', 'works': ['Marc Chagall: Self-Portrait']},\n",
       " {'artist': 'Louis Marcoussis (1883-1941)',\n",
       "  'works': ['Louis Marcoussis: La Table']},\n",
       " {'artist': 'Pablo Picasso',\n",
       "  'works': ['Pablo Picasso: Quatre Femmes nues et Tête sculptée, from: La Suite Vollard']}]"
      ]
     },
     "execution_count": 9,
     "metadata": {},
     "output_type": "execute_result"
    }
   ],
   "source": [
    "script2(filepaths)"
   ]
  },
  {
   "cell_type": "code",
   "execution_count": 10,
   "metadata": {},
   "outputs": [],
   "source": [
    "# artist names\n",
    "def script3(filepaths):\n",
    "    result = []\n",
    "    artist_index = {}\n",
    "    artist_count = 0\n",
    "    for file in filepaths:\n",
    "        artist_index,artist_count,index,data = prepData(file,artist_index,artist_count,result)\n",
    "        result[index]['works'].append({'title': data['title'], 'price': data['body']['div_1']})\n",
    "    return result"
   ]
  },
  {
   "cell_type": "code",
   "execution_count": 11,
   "metadata": {},
   "outputs": [
    {
     "data": {
      "text/plain": [
       "[{'artist': 'Rembrandt Harmensz. van Rijn',\n",
       "  'works': [{'price': 'GBP 6,875',\n",
       "    'title': 'Rembrandt Harmensz. van Rijn: Christ at Emmaus: The smaller Plate'}]},\n",
       " {'artist': 'Joan Miró',\n",
       "  'works': [{'price': 'GBP 11,250',\n",
       "    'title': 'Joan Miró: Femme et Chien devant la Lune'}]},\n",
       " {'artist': 'Marc Chagall',\n",
       "  'works': [{'price': 'GBP 6,000', 'title': 'Marc Chagall: Self-Portrait'}]},\n",
       " {'artist': 'Louis Marcoussis (1883-1941)',\n",
       "  'works': [{'price': 'GBP 9,200', 'title': 'Louis Marcoussis: La Table'}]},\n",
       " {'artist': 'Pablo Picasso',\n",
       "  'works': [{'price': 'USD 25,000',\n",
       "    'title': 'Pablo Picasso: Quatre Femmes nues et Tête sculptée, from: La Suite Vollard'}]}]"
      ]
     },
     "execution_count": 11,
     "metadata": {},
     "output_type": "execute_result"
    }
   ],
   "source": [
    "script3(filepaths)"
   ]
  },
  {
   "cell_type": "code",
   "execution_count": 12,
   "metadata": {},
   "outputs": [],
   "source": [
    "# artist names\n",
    "def script4(filepaths):\n",
    "    result = []\n",
    "    artist_index = {}\n",
    "    artist_count = 0\n",
    "    for file in filepaths:\n",
    "        artist_index,artist_count,index,data = prepData(file,artist_index,artist_count,result)\n",
    "        currency, amount = data['body']['div_1'].split()\n",
    "        result[index]['works'].append({'title': data['title'], 'currency': currency, 'amount': amount })\n",
    "    return result"
   ]
  },
  {
   "cell_type": "code",
   "execution_count": 13,
   "metadata": {},
   "outputs": [
    {
     "data": {
      "text/plain": [
       "[{'artist': 'Rembrandt Harmensz. van Rijn',\n",
       "  'works': [{'amount': '6,875',\n",
       "    'currency': 'GBP',\n",
       "    'title': 'Rembrandt Harmensz. van Rijn: Christ at Emmaus: The smaller Plate'}]},\n",
       " {'artist': 'Joan Miró',\n",
       "  'works': [{'amount': '11,250',\n",
       "    'currency': 'GBP',\n",
       "    'title': 'Joan Miró: Femme et Chien devant la Lune'}]},\n",
       " {'artist': 'Marc Chagall',\n",
       "  'works': [{'amount': '6,000',\n",
       "    'currency': 'GBP',\n",
       "    'title': 'Marc Chagall: Self-Portrait'}]},\n",
       " {'artist': 'Louis Marcoussis (1883-1941)',\n",
       "  'works': [{'amount': '9,200',\n",
       "    'currency': 'GBP',\n",
       "    'title': 'Louis Marcoussis: La Table'}]},\n",
       " {'artist': 'Pablo Picasso',\n",
       "  'works': [{'amount': '25,000',\n",
       "    'currency': 'USD',\n",
       "    'title': 'Pablo Picasso: Quatre Femmes nues et Tête sculptée, from: La Suite Vollard'}]}]"
      ]
     },
     "execution_count": 13,
     "metadata": {},
     "output_type": "execute_result"
    }
   ],
   "source": [
    "script4(filepaths)"
   ]
  },
  {
   "cell_type": "code",
   "execution_count": null,
   "metadata": {},
   "outputs": [],
   "source": []
  }
 ],
 "metadata": {
  "kernelspec": {
   "display_name": "Python 3",
   "language": "python",
   "name": "python3"
  },
  "language_info": {
   "codemirror_mode": {
    "name": "ipython",
    "version": 3
   },
   "file_extension": ".py",
   "mimetype": "text/x-python",
   "name": "python",
   "nbconvert_exporter": "python",
   "pygments_lexer": "ipython3",
   "version": "3.6.4"
  }
 },
 "nbformat": 4,
 "nbformat_minor": 2
}
